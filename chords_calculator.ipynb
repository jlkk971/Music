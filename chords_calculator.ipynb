{
 "cells": [
  {
   "cell_type": "code",
   "execution_count": 5,
   "metadata": {},
   "outputs": [
    {
     "name": "stdout",
     "output_type": "stream",
     "text": [
      "['Re', 'Fa#', 'La']\n",
      "[2, 4, 5, 7, 9, 11, 12]\n",
      "['Re#', 'Fa', 'Sol', 'Sol#', 'La#', 'Do', 'Do#', 'Re#']\n"
     ]
    }
   ],
   "source": [
    "'''\n",
    "Scope of this class is to assess the following tasks:\n",
    "\n",
    "-calculate major and minor chords starting from each note\n",
    "-calculate mixolidian and lidian equivalents of the C major scale\n",
    "'''\n",
    "\n",
    "import itertools\n",
    "import numpy as np\n",
    "\n",
    "def chords(root_note, type):\n",
    "\n",
    "    note=['Do','Do#','Re','Re#','Mi','Fa','Fa#','Sol','Sol#','La','La#','Si']\n",
    "\n",
    "    cycle=itertools.cycle(note)\n",
    "\n",
    "    chord=[]\n",
    "    third=0\n",
    "    chord.append(root_note)\n",
    "    counter=0\n",
    "\n",
    "    if type=='major':\n",
    "        third=4\n",
    "    elif type=='minor':\n",
    "        third=3\n",
    "    else:\n",
    "        raise NameError('should be major or minor')\n",
    "\n",
    "    for elem in cycle:\n",
    "        if elem==root_note:\n",
    "            for item in cycle:\n",
    "                counter=counter+1 \n",
    "                if counter==third:           \n",
    "                    chord.append(item)\n",
    "                if counter==7:\n",
    "                    chord.append(item)\n",
    "                elif counter>7:\n",
    "                    break\n",
    "        elif len(chord)==3:\n",
    "            break\n",
    "\n",
    "    print(chord)\n",
    "                \n",
    "def scale(root_note, type=None):\n",
    "\n",
    "    note=['Do','Do#','Re','Re#','Mi','Fa','Fa#','Sol','Sol#','La','La#','Si']\n",
    "\n",
    "    cycle=itertools.cycle(note)\n",
    "\n",
    "    chord=[]\n",
    "    chord.append(root_note)\n",
    "    counter=0\n",
    "\n",
    "    major_scale_natural=[2,2,1,2,2,2,1]\n",
    "    major_scale_natural=list(np.cumsum(major_scale_natural))\n",
    "\n",
    "\n",
    "    major_scale_misolidian=[2,2,1,2,2,1,2]\n",
    "    major_scale_misolidian=list(np.cumsum(major_scale_misolidian))\n",
    "\n",
    "    print(major_scale_natural)\n",
    "\n",
    "    for elem in cycle:\n",
    "        if elem==root_note:\n",
    "            for item in cycle:\n",
    "                counter=counter+1  \n",
    "                for i in major_scale_misolidian:\n",
    "                    if counter==i:\n",
    "                        chord.append(item)\n",
    "                        break\n",
    "                if counter>12:\n",
    "                    break\n",
    "        elif len(chord)==8:\n",
    "            break\n",
    "\n",
    "    print(chord)\n",
    "\n",
    "\n",
    "a=chords('Re','major')\n",
    "b=scale('Re#')"
   ]
  },
  {
   "cell_type": "code",
   "execution_count": 3,
   "metadata": {},
   "outputs": [],
   "source": []
  },
  {
   "cell_type": "code",
   "execution_count": null,
   "metadata": {},
   "outputs": [],
   "source": []
  }
 ],
 "metadata": {
  "interpreter": {
   "hash": "f0814cabb1d848f7eae08d4ed87a8c1b700aa54b4d6a1813255b5dc79ca878af"
  },
  "kernelspec": {
   "display_name": "Python 3.9.7 ('base_1')",
   "language": "python",
   "name": "python3"
  },
  "language_info": {
   "codemirror_mode": {
    "name": "ipython",
    "version": 3
   },
   "file_extension": ".py",
   "mimetype": "text/x-python",
   "name": "python",
   "nbconvert_exporter": "python",
   "pygments_lexer": "ipython3",
   "version": "3.9.7"
  },
  "orig_nbformat": 4
 },
 "nbformat": 4,
 "nbformat_minor": 2
}
